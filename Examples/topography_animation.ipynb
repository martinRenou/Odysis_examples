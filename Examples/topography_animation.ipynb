{
 "cells": [
  {
   "cell_type": "code",
   "execution_count": null,
   "metadata": {},
   "outputs": [],
   "source": [
    "from ipywidgets import Play, IntProgress, link, HBox\n",
    "\n",
    "from odysis import scene, Mesh, plot, point_cloud, color_mapping"
   ]
  },
  {
   "cell_type": "code",
   "execution_count": null,
   "metadata": {},
   "outputs": [],
   "source": [
    "mesh = Mesh.from_vtk('fastscapelib_topography/Topography0000001.vtk')\n",
    "\n",
    "def load_step(change):\n",
    "    mesh.reload('fastscapelib_topography/Topography0000{}.vtk'.format(str(change['new']).zfill(3)), reload_vertices=True)\n",
    "\n",
    "play = Play(description='Step:', min=1, max=200, value=1)\n",
    "play.observe(load_step, names=['value'])\n",
    "\n",
    "progress = IntProgress(value=1, step=1, min=1, max=200)\n",
    "link((progress, 'value'), (play, 'value'))\n",
    "\n",
    "stepper = HBox((play, progress))"
   ]
  },
  {
   "cell_type": "code",
   "execution_count": null,
   "metadata": {},
   "outputs": [],
   "source": [
    "scene(mesh=mesh)\n",
    "color = color_mapping()\n",
    "cloud = color.point_cloud()\n",
    "plot()"
   ]
  },
  {
   "cell_type": "code",
   "execution_count": null,
   "metadata": {},
   "outputs": [],
   "source": [
    "color.interact()"
   ]
  },
  {
   "cell_type": "code",
   "execution_count": null,
   "metadata": {},
   "outputs": [],
   "source": [
    "scene(mesh=mesh)\n",
    "cloud = color_mapping().grid(axis='z', step=600)\n",
    "plot()"
   ]
  },
  {
   "cell_type": "code",
   "execution_count": null,
   "metadata": {},
   "outputs": [],
   "source": [
    "stepper"
   ]
  },
  {
   "cell_type": "code",
   "execution_count": null,
   "metadata": {},
   "outputs": [],
   "source": []
  }
 ],
 "metadata": {
  "kernelspec": {
   "display_name": "Python 3",
   "language": "python",
   "name": "python3"
  },
  "language_info": {
   "codemirror_mode": {
    "name": "ipython",
    "version": 3
   },
   "file_extension": ".py",
   "mimetype": "text/x-python",
   "name": "python",
   "nbconvert_exporter": "python",
   "pygments_lexer": "ipython3",
   "version": "3.7.3"
  }
 },
 "nbformat": 4,
 "nbformat_minor": 2
}
